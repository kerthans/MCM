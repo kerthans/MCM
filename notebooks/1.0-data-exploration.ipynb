{
 "cells": [
  {
   "cell_type": "code",
   "execution_count": null,
   "metadata": {
    "vscode": {
     "languageId": "plaintext"
    }
   },
   "outputs": [],
   "source": [
    "from rich.traceback import install\n",
    "from src.data.loader import OlympicsDataLoader\n",
    "from src.utils.logger import log_info, log_success, log_error, create_progress, console\n",
    "import time\n",
    "from rich.panel import Panel\n",
    "\n",
    "# 安装Rich异常跟踪\n",
    "install(show_locals=True)\n",
    "\n",
    "def main():\n",
    "    console.print(Panel.fit(\n",
    "        \"[bold blue]奥运会奖牌预测分析系统[/bold blue]\",\n",
    "        title=\"系统启动\"\n",
    "    ))\n",
    "\n",
    "    try:\n",
    "        with create_progress() as progress:\n",
    "            # 数据加载\n",
    "            task1 = progress.add_task(\"[cyan]加载数据...\", total=100)\n",
    "            loader = OlympicsDataLoader()\n",
    "            \n",
    "            # 模拟进度\n",
    "            for i in range(100):\n",
    "                time.sleep(0.01)\n",
    "                progress.update(task1, advance=1)\n",
    "            \n",
    "            data = loader.load_all_data()\n",
    "            \n",
    "            log_success(\"数据加载完成!\")\n",
    "            \n",
    "            # 显示数据基本信息\n",
    "            for key, df in data.items():\n",
    "                console.print(f\"[yellow]{key}[/yellow] 数据概况:\")\n",
    "                console.print(df.info())\n",
    "                console.print(\"\\n\")\n",
    "\n",
    "    except Exception as e:\n",
    "        log_error(f\"程序执行出错: {str(e)}\")\n",
    "        raise\n",
    "\n",
    "if __name__ == \"__main__\":\n",
    "    main()"
   ]
  }
 ],
 "metadata": {
  "language_info": {
   "name": "python"
  }
 },
 "nbformat": 4,
 "nbformat_minor": 2
}
