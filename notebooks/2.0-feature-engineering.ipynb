{
 "cells": [
  {
   "cell_type": "code",
   "execution_count": null,
   "metadata": {
    "vscode": {
     "languageId": "plaintext"
    }
   },
   "outputs": [],
   "source": [
    "# main.py\n",
    "from rich.traceback import install\n",
    "from src.data.loader import OlympicsDataLoader\n",
    "from src.features.builders import FeatureBuilder\n",
    "from src.utils.logger import log_info, log_success, create_progress, console\n",
    "import time\n",
    "from rich.panel import Panel\n",
    "install(show_locals=True)\n",
    "\n",
    "def main():\n",
    "    console.print(Panel.fit(\"[bold blue]奥运会奖牌预测分析系统[/bold blue]\", title=\"系统启动\"))\n",
    "\n",
    "    with create_progress() as progress:\n",
    "        # 数据加载\n",
    "        task1 = progress.add_task(\"[cyan]加载数据...\", total=100)\n",
    "        loader = OlympicsDataLoader()\n",
    "        data = loader.load_all_data()\n",
    "        progress.update(task1, completed=100)\n",
    "\n",
    "        # 特征构建\n",
    "        task2 = progress.add_task(\"[green]构建特征...\", total=100)\n",
    "        feature_builder = FeatureBuilder(\n",
    "            data['medal_counts'],\n",
    "            data['athletes'],\n",
    "            data['hosts'],\n",
    "            data['programs']\n",
    "        )\n",
    "        \n",
    "        features = feature_builder.build_all_features()\n",
    "        progress.update(task2, completed=100)\n",
    "\n",
    "        # 显示特征统计信息\n",
    "        for feature_type, feature_data in features.items():\n",
    "            console.print(f\"\\n[yellow]{feature_type}[/yellow] 特征统计:\")\n",
    "            if isinstance(feature_data, dict):\n",
    "                for name, df in feature_data.items():\n",
    "                    console.print(f\"\\n{name}:\")\n",
    "                    console.print(df.describe())\n",
    "            else:\n",
    "                console.print(feature_data.describe())\n",
    "\n",
    "if __name__ == \"__main__\":\n",
    "    main()"
   ]
  }
 ],
 "metadata": {
  "language_info": {
   "name": "python"
  }
 },
 "nbformat": 4,
 "nbformat_minor": 2
}
